{
 "cells": [
  {
   "cell_type": "code",
   "execution_count": null,
   "id": "492e3eca-0819-473f-9dc0-dbd889228fd8",
   "metadata": {
    "tags": []
   },
   "outputs": [],
   "source": [
    "from getpass import getpass\n",
    "from owslib.csw import CatalogueServiceWeb as CSW\n",
    "from owslib.ows import BoundingBox\n",
    "from pyproj import CRS, Transformer\n",
    "from shapely.geometry import box, Polygon\n",
    "from shapely.ops import transform\n",
    "\n",
    "import pandas as pd\n",
    "import geopandas as gpd\n",
    "import logging"
   ]
  },
  {
   "cell_type": "code",
   "execution_count": null,
   "id": "5613e3b4-872e-4bfb-90ad-c18ecacf1729",
   "metadata": {
    "tags": []
   },
   "outputs": [],
   "source": [
    "logger = logging.getLogger()\n",
    "logger.setLevel(logging.INFO)"
   ]
  },
  {
   "cell_type": "code",
   "execution_count": null,
   "id": "76934510-ce82-4f59-956b-a4a39e42ee07",
   "metadata": {
    "tags": []
   },
   "outputs": [],
   "source": [
    "# Deixar os campos em branco para não usar autenticação\n",
    "auth = dict(\n",
    "    username=getpass(prompt=\"Digite o usuário\") or None,\n",
    "    password=getpass(prompt=\"Digite a senha\") or None\n",
    ")"
   ]
  },
  {
   "cell_type": "code",
   "execution_count": null,
   "id": "2a89b798-ece4-414a-a39f-0d9e6fb068b5",
   "metadata": {
    "tags": []
   },
   "outputs": [],
   "source": [
    "csw  = CSW(\"https://geoservicos.sgb.gov.br/geonetwork/srv/eng/csw\", **auth)"
   ]
  },
  {
   "cell_type": "markdown",
   "id": "cbec7a16-6a78-4b1c-905a-c25413baa19d",
   "metadata": {},
   "source": [
    "## Get results"
   ]
  },
  {
   "cell_type": "code",
   "execution_count": null,
   "id": "4ce7f443-1d16-480a-97df-27b42b168752",
   "metadata": {
    "tags": []
   },
   "outputs": [],
   "source": [
    "start = 1\n",
    "page_size = 100\n",
    "\n",
    "results = []\n",
    "\n",
    "\n",
    "while True:\n",
    "    csw.getrecords2(startposition=start, maxrecords=page_size, esn=\"full\")  # ESN=full traz os bbox\n",
    "    start = csw.results.get(\"nextrecord\")\n",
    "    logging.info(csw.results)\n",
    "\n",
    "    for key, record in csw.records.items():\n",
    "        row = {prop: getattr(record, prop) for prop in dir(record) if not prop.startswith(\"_\")}\n",
    "        results.append(row)\n",
    "    \n",
    "    if not start:\n",
    "        logging.info(\"Fetch results done\")\n",
    "        break\n",
    "\n",
    "\n",
    "def bbox_to_wgs84(minx, miny, maxx, maxy, crs):    \n",
    "    # try:\n",
    "    bbox = box(minx, miny, maxx, maxy)\n",
    "    wgs84 = 'EPSG:4326'\n",
    "\n",
    "    if crs and crs != wgs84:            \n",
    "        proj_src = CRS(crs)\n",
    "        proj_dst = CRS(wgs84)\n",
    "\n",
    "        project = Transformer.from_crs(proj_src, proj_dst, always_xy=True).transform\n",
    "        bbox = transform(project, bbox)            \n",
    "\n",
    "    return bbox\n",
    "    \n",
    "    # except:\n",
    "    #     return None\n",
    "    \n",
    "\n",
    "# Convert to GeoDataFrame\n",
    "metadata = gpd.GeoDataFrame(\n",
    "    pd.DataFrame(results)\n",
    "        .set_index(\"identifier\")\n",
    "        .assign(\n",
    "            bbox_crs = lambda df: df.bbox.apply(lambda val: val.crs.code)\n",
    "                .str.replace(\"[\\s\\W]+\", \"\", regex=True)     # Clear spaces and non-words\n",
    "                .str.replace(\"1984\", \"84\", regex=False)     # Normalize 1984 to 84 \n",
    "                .str.replace(\"^4326$\", \"WGS84\", regex=True) # Replace EPSG codes to WGS84\n",
    "                .str.replace(\"^SouthAmericanDatum\", \"\", regex=True) # Replace EPSG codes to WGS84\n",
    "                .replace({\n",
    "                    \"WGS84\": \"EPSG:4326\",\n",
    "                    \"SIRGAS2000\": \"EPSG:4674\",\n",
    "                    \"SAD69\": \"EPSG:4291\",\n",
    "                    \"CórregoAlegre\": \"EPSG:4225\",\n",
    "                })\n",
    "                .fillna(\"EPSG:4326\"),\n",
    "            bbox = lambda df: df.bbox.apply(\n",
    "                lambda val: tuple([float(num) for num in (val.minx, val.miny, val.maxx, val.maxy)])\n",
    "            ),\n",
    "            bbox_wgs84 = lambda df: df.apply(\n",
    "                lambda val: bbox_to_wgs84(crs=val.bbox_crs, *val.bbox), \n",
    "                axis=\"columns\"\n",
    "            )\n",
    "        )\n",
    "        .pipe(\n",
    "            lambda df: df.reindex(columns=sorted(df.columns))\n",
    "        ),\n",
    "    geometry=\"bbox_wgs84\",\n",
    "    crs=\"EPSG:4326\"\n",
    ")\n",
    "\n",
    "metadata.to_parquet(\"metadata-geo.parquet\")\n",
    "metadata.info()"
   ]
  },
  {
   "cell_type": "code",
   "execution_count": null,
   "id": "629aaca8-a9a5-40c9-91c1-b5a572ea6bd7",
   "metadata": {
    "tags": []
   },
   "outputs": [],
   "source": [
    "metadata.sample(5)"
   ]
  }
 ],
 "metadata": {
  "kernelspec": {
   "display_name": "Python 3 (ipykernel)",
   "language": "python",
   "name": "python3"
  },
  "language_info": {
   "codemirror_mode": {
    "name": "ipython",
    "version": 3
   },
   "file_extension": ".py",
   "mimetype": "text/x-python",
   "name": "python",
   "nbconvert_exporter": "python",
   "pygments_lexer": "ipython3",
   "version": "3.8.16"
  }
 },
 "nbformat": 4,
 "nbformat_minor": 5
}
