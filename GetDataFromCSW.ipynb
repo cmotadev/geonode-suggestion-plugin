{
 "cells": [
  {
   "cell_type": "code",
   "execution_count": null,
   "id": "492e3eca-0819-473f-9dc0-dbd889228fd8",
   "metadata": {
    "tags": []
   },
   "outputs": [],
   "source": [
    "from getpass import getpass\n",
    "from owslib.csw import CatalogueServiceWeb as CSW\n",
    "from pyproj import CRS, Transformer\n",
    "from shapely.geometry import box, Polygon\n",
    "from shapely.ops import transform\n",
    "\n",
    "import pandas as pd\n",
    "import geopandas as gpd\n",
    "import logging"
   ]
  },
  {
   "cell_type": "code",
   "execution_count": null,
   "id": "5613e3b4-872e-4bfb-90ad-c18ecacf1729",
   "metadata": {
    "tags": []
   },
   "outputs": [],
   "source": [
    "logger = logging.getLogger()\n",
    "logger.setLevel(logging.INFO)"
   ]
  },
  {
   "cell_type": "code",
   "execution_count": null,
   "id": "2a89b798-ece4-414a-a39f-0d9e6fb068b5",
   "metadata": {
    "tags": []
   },
   "outputs": [],
   "source": [
    "csw  = CSW(\"https://geoservicos.sgb.gov.br/geonetwork/srv/eng/csw\", username=\"carlos.mota\", password=getpass(prompt=\"Digite a senha\"))"
   ]
  },
  {
   "cell_type": "markdown",
   "id": "cbec7a16-6a78-4b1c-905a-c25413baa19d",
   "metadata": {},
   "source": [
    "## Get results"
   ]
  },
  {
   "cell_type": "code",
   "execution_count": null,
   "id": "4ce7f443-1d16-480a-97df-27b42b168752",
   "metadata": {
    "tags": []
   },
   "outputs": [],
   "source": [
    "start = 1\n",
    "page_size = 100\n",
    "\n",
    "epsg_codes = {\n",
    "    \"WGS84\": \"EPSG:4326\",\n",
    "    \"SIRGAS2000\": \"EPSG:4674\",\n",
    "    \"SAD69\": \"EPSG:4291\",\n",
    "    \"CórregoAlegre\": \"EPSG:4225\",\n",
    "}\n",
    "\n",
    "results = []\n",
    "\n",
    "\n",
    "while True:\n",
    "    csw.getrecords2(startposition=start, maxrecords=page_size, esn=\"full\")\n",
    "    start = csw.results.get(\"nextrecord\")\n",
    "    logging.info(csw.results)\n",
    "\n",
    "    for key, record in csw.records.items():\n",
    "        selected_props = (\"identifier\", \"title\", \"abstract\", \"subjects\", \"bbox\")\n",
    "        row = {prop: getattr(record, prop) for prop in selected_props}\n",
    "        results.append(row)\n",
    "    \n",
    "    if not start:\n",
    "        logging.info(\"Fetch results done\")\n",
    "        break\n",
    "\n",
    "# Convert to DataFrame\n",
    "metadata = (\n",
    "    pd.DataFrame(results)\n",
    "        .set_index(\"identifier\")\n",
    ")\n",
    "\n",
    "# Sanitize bbox\n",
    "bbox_df = (\n",
    "    metadata[['bbox']].apply(\n",
    "        lambda val: (float(val.bbox.minx), float(val.bbox.miny), float(val.bbox.maxx), float(val.bbox.maxy), val.bbox.crs.code) if val.bbox else (None,) * 5, \n",
    "        axis=\"columns\", \n",
    "        result_type=\"expand\"\n",
    "    )\n",
    "    .rename(columns={0: \"minx\", 1: \"miny\", 2: \"maxx\", 3: \"maxy\", 4: \"crs\"})\n",
    "    .assign(\n",
    "        crs = lambda df: (\n",
    "            df.crs\n",
    "                .str.replace(\"[\\s\\W]+\", \"\", regex=True)     # Clear spaces and non-words\n",
    "                .str.replace(\"1984\", \"84\", regex=False)     # Normalize 1984 to 84 \n",
    "                .str.replace(\"^4326$\", \"WGS84\", regex=True) # Replace EPSG codes to WGS84\n",
    "                .str.replace(\"^SouthAmericanDatum\", \"\", regex=True) # Replace EPSG codes to WGS84\n",
    "            .replace(epsg_codes)\n",
    "            .fillna(epsg_codes['WGS84'])                    # set WGS84 as default CRS\n",
    "        )\n",
    "    )\n",
    "    .convert_dtypes()\n",
    ")\n",
    "\n",
    "metadata = (\n",
    "    metadata.drop(\"bbox\", axis=\"columns\")\n",
    "        .join(bbox_df, validate=\"one_to_one\")\n",
    ")\n",
    "\n",
    "metadata.to_parquet(\"metadata.parquet\")\n",
    "metadata.info()"
   ]
  },
  {
   "cell_type": "markdown",
   "id": "ecbba380-990c-4d20-83a6-f02409334790",
   "metadata": {},
   "source": [
    "## Sanitize BBOX"
   ]
  },
  {
   "cell_type": "code",
   "execution_count": null,
   "id": "7fab8ebd-8321-429d-be43-9cb9901d18ba",
   "metadata": {
    "tags": []
   },
   "outputs": [],
   "source": [
    "def bbox_to_geometry(minx, miny, maxx, maxy, crs=None):\n",
    "    try:\n",
    "        bbox = box(minx, miny, maxx, maxy)\n",
    "        \n",
    "        if crs and crs != wgs84:            \n",
    "            proj_src = pyproj.CRS(crs)\n",
    "            proj_dst = pyproj.CRS(epsg_codes['WGS84'])\n",
    "\n",
    "            project = Transformer.from_crs(proj_src, proj_dst, always_xy=True).transform\n",
    "            bbox = transform(project, bbox)            \n",
    "        \n",
    "        return bbox\n",
    "    \n",
    "    except:\n",
    "        return None\n",
    "\n",
    "metadata_gdf = (\n",
    "    gpd.GeoDataFrame(\n",
    "        metadata.assign(\n",
    "            geometry = lambda df: gpd.GeoSeries(df.apply(lambda df: bbox_to_geometry(df.minx, df.miny, df.maxx, df.maxy), axis=\"columns\"))\n",
    "        ),\n",
    "        geometry=\"geometry\"\n",
    "    )\n",
    "    .loc[\n",
    "        lambda df: df.geometry.covered_by(box(-80, -40, -20, 20)) # Remove metadata not covered by Brazil bbpx\n",
    "    ]\n",
    ")\n",
    "\n",
    "metadata_gdf.to_parquet(\"metadata-geo.parquet\")\n",
    "\n",
    "metadata_gdf.boundary.plot(edgecolor=\"black\")"
   ]
  }
 ],
 "metadata": {
  "kernelspec": {
   "display_name": "Python 3 (ipykernel)",
   "language": "python",
   "name": "python3"
  },
  "language_info": {
   "codemirror_mode": {
    "name": "ipython",
    "version": 3
   },
   "file_extension": ".py",
   "mimetype": "text/x-python",
   "name": "python",
   "nbconvert_exporter": "python",
   "pygments_lexer": "ipython3",
   "version": "3.8.16"
  }
 },
 "nbformat": 4,
 "nbformat_minor": 5
}
